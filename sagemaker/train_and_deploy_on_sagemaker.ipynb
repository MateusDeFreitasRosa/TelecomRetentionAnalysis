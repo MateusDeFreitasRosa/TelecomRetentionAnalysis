{
 "cells": [
  {
   "cell_type": "markdown",
   "id": "ce7f65ef-f9d1-471f-926d-0985e16552dc",
   "metadata": {},
   "source": [
    "# Configuração do SageMaker Estimator"
   ]
  },
  {
   "cell_type": "markdown",
   "id": "072ca1ef-7fc7-47ca-a794-ffa86071bd79",
   "metadata": {},
   "source": [
    "## 1 - Configuração Inicial:"
   ]
  },
  {
   "cell_type": "code",
   "execution_count": 3,
   "id": "368d55a5-406d-486c-a244-49b30752e9e4",
   "metadata": {
    "tags": []
   },
   "outputs": [],
   "source": [
    "import sagemaker\n",
    "from sagemaker.sklearn.estimator import SKLearn\n",
    "from sagemaker.inputs import TrainingInput\n",
    "\n",
    "# Obter o role e sessão do SageMaker\n",
    "role = sagemaker.get_execution_role()\n",
    "sagemaker_session = sagemaker.Session()\n",
    "\n",
    "# Definir o bucket e os caminhos no S3\n",
    "bucket = 'sagemaker-us-east-1-837612112902'\n",
    "prefix = 'telco_churn'\n",
    "train_data_uri = f's3://{bucket}/{prefix}/dataset/'\n",
    "output_path = f's3://{bucket}/{prefix}/output/'"
   ]
  },
  {
   "cell_type": "markdown",
   "id": "3caefa5b-4d36-4d20-b350-5bce9588cbbc",
   "metadata": {},
   "source": [
    "## 2 - Configuração do Estimador:"
   ]
  },
  {
   "cell_type": "code",
   "execution_count": null,
   "id": "07c91f16-814f-4a03-a541-28d8d072eb5d",
   "metadata": {
    "scrolled": true,
    "tags": []
   },
   "outputs": [],
   "source": [
    "# Configurar o Estimador para o treinamento com XGBoost\n",
    "xgb_estimator = SKLearn(\n",
    "    entry_point=\"train.py\",  # O script de treinamento\n",
    "    role=role,               # Role do SageMaker\n",
    "    instance_type=\"ml.m5.large\",  # Tipo de instância\n",
    "    instance_count=1,        # Número de instâncias\n",
    "    framework_version=\"0.23-1\",  # Versão do Scikit-learn\n",
    "    py_version=\"py3\",\n",
    "    output_path=output_path,  # Diretório S3 para armazenar o modelo,\n",
    "    dependencies=[\"requirements.txt\"],  # Inclui as dependências\n",
    "    hyperparameters={         # Hiperparâmetros para o XGBoost\n",
    "        'n_estimators': 100,\n",
    "        'max_depth': 5,\n",
    "        'learning_rate': 0.1\n",
    "    }\n",
    ")"
   ]
  },
  {
   "cell_type": "markdown",
   "id": "7c40624f-2894-4e37-b116-0b2a7e7cbec4",
   "metadata": {
    "tags": []
   },
   "source": [
    "## 3 - Iniciar Treinamento:"
   ]
  },
  {
   "cell_type": "code",
   "execution_count": null,
   "id": "1eb06c46-8aa1-4f53-9dff-513cc5e7199b",
   "metadata": {},
   "outputs": [],
   "source": [
    "# Usar TrainingInput para passar os dados corretamente\n",
    "train_input = TrainingInput(s3_data=train_data_uri, content_type='csv')\n",
    "\n",
    "# Iniciar o treinamento com os dados do S3\n",
    "xgb_estimator.fit({'train': train_input})"
   ]
  },
  {
   "cell_type": "markdown",
   "id": "3629f933-a5a9-4e73-8111-90701acb9039",
   "metadata": {},
   "source": [
    "## 4 - Registro do Modelo:"
   ]
  },
  {
   "cell_type": "code",
   "execution_count": null,
   "id": "a60986e5-affa-478b-a8e6-8643b9bde848",
   "metadata": {},
   "outputs": [],
   "source": [
    "#xgb_estimator.model_data"
   ]
  },
  {
   "cell_type": "code",
   "execution_count": 18,
   "id": "b1d449aa-06c5-4293-b6e8-7c9936b6d930",
   "metadata": {
    "tags": []
   },
   "outputs": [],
   "source": [
    "model_artifact = 's3://sagemaker-us-east-1-837612112902/telco_churn/output/sagemaker-scikit-learn-2024-10-15-22-48-20-490/output/model.tar.gz'"
   ]
  },
  {
   "cell_type": "code",
   "execution_count": 11,
   "id": "a424fe7f-4ce9-41b9-9cc2-78a134e6a699",
   "metadata": {
    "tags": []
   },
   "outputs": [],
   "source": [
    "from sagemaker.sklearn.model import SKLearnModel\n",
    "\n",
    "# Definir o modelo usando o artefato treinado\n",
    "model = SKLearnModel(\n",
    "    model_data=model_artifact,  # Local onde o modelo foi salvo no S3 após o treinamento\n",
    "    role=role,\n",
    "    entry_point=\"predict.py\",  # Mesmo script de treinamento usado para inferência\n",
    "    framework_version=\"0.23-1\",  # Versão do Scikit-learn utilizada\n",
    "    py_version=\"py3\"\n",
    ")\n"
   ]
  },
  {
   "cell_type": "code",
   "execution_count": 6,
   "id": "ebee3071-17d5-4787-b307-1f6489d7b1e1",
   "metadata": {
    "tags": []
   },
   "outputs": [],
   "source": [
    "# Configurar o transformador para predições em batch\n",
    "transformer = model.transformer(\n",
    "    instance_count=1,  # Número de instâncias para a inferência\n",
    "    instance_type=\"ml.m5.large\",  # Tipo de instância\n",
    "    output_path=\"s3://sagemaker-us-east-1-837612112902/telco_churn/predictions/\",  # Caminho para salvar as predições\n",
    ")"
   ]
  },
  {
   "cell_type": "code",
   "execution_count": null,
   "id": "3d1f899e-a48b-4887-bbc7-19bbc92c3e2e",
   "metadata": {},
   "outputs": [],
   "source": [
    "model_artifact = 's3://sagemaker-us-east-1-837612112902/telco_churn/output/sagemaker-scikit-learn-2024-10-15-22-48-20-490/output/model.tar.gz'"
   ]
  },
  {
   "cell_type": "code",
   "execution_count": null,
   "id": "d9086366-b635-4eaa-8050-005ce411038c",
   "metadata": {},
   "outputs": [],
   "source": [
    "from sagemaker.sklearn.model import SKLearnModel\n",
    "\n",
    "# Definir o modelo usando o artefato treinado\n",
    "model = SKLearnModel(\n",
    "    model_data=model_artifact,  # Local onde o modelo foi salvo no S3 após o treinamento\n",
    "    role=role,\n",
    "    entry_point=\"predict.py\",  # Script para realizar a inferência\n",
    "    framework_version=\"0.23-1\",  # Versão do Scikit-learn utilizada\n",
    "    py_version=\"py3\"\n",
    ")"
   ]
  },
  {
   "cell_type": "markdown",
   "id": "84b2d1c9-1307-492d-91d4-00c733f12cd7",
   "metadata": {},
   "source": [
    "## 5 - Inferência em Batch:"
   ]
  },
  {
   "cell_type": "code",
   "execution_count": null,
   "id": "6382a50b-818a-4ce8-949e-4629bd13d3f2",
   "metadata": {},
   "outputs": [],
   "source": [
    "# Configurar o transformador para predições em batch\n",
    "transformer = model.transformer(\n",
    "    instance_count=1,  # Número de instâncias para a inferência\n",
    "    instance_type=\"ml.m5.large\",  # Tipo de instância\n",
    "    output_path=\"s3://sagemaker-us-east-1-837612112902/telco_churn/predictions/\",  # Caminho para salvar as predições\n",
    ")\n"
   ]
  },
  {
   "cell_type": "markdown",
   "id": "0885e74d-ecf5-4900-8025-13745d9fd66e",
   "metadata": {
    "tags": []
   },
   "source": [
    "## 6 - Implantação de Endpoint:"
   ]
  },
  {
   "cell_type": "code",
   "execution_count": 19,
   "id": "e906033e-88b9-46b9-94e1-d03c6f558f4f",
   "metadata": {
    "tags": []
   },
   "outputs": [],
   "source": [
    "from sagemaker.sklearn.model import SKLearnModel\n",
    "\n",
    "# Definir o modelo usando o artefato treinado\n",
    "model = SKLearnModel(\n",
    "    model_data=model_artifact,\n",
    "    role=role,\n",
    "    entry_point='inference.py',\n",
    "    framework_version='0.23-1',\n",
    "    py_version='py3',\n",
    "    dependencies=['requirements.txt']\n",
    ")"
   ]
  },
  {
   "cell_type": "code",
   "execution_count": 20,
   "id": "fa119736-1525-4d77-a353-a07262bdd6bf",
   "metadata": {
    "tags": []
   },
   "outputs": [
    {
     "name": "stdout",
     "output_type": "stream",
     "text": [
      "------!"
     ]
    }
   ],
   "source": [
    "# Implantar o modelo como um endpoint\n",
    "predictor = model.deploy(\n",
    "    initial_instance_count=1,  # Número de instâncias\n",
    "    instance_type='ml.m5.large'  # Tipo de instância\n",
    ")"
   ]
  },
  {
   "cell_type": "code",
   "execution_count": null,
   "id": "67065bae-dec5-400b-8e7f-d419d09bb8bd",
   "metadata": {},
   "outputs": [],
   "source": []
  },
  {
   "cell_type": "code",
   "execution_count": null,
   "id": "f393f310-8e86-4156-9f86-adbef0e46120",
   "metadata": {},
   "outputs": [],
   "source": []
  }
 ],
 "metadata": {
  "kernelspec": {
   "display_name": "conda_python3",
   "language": "python",
   "name": "conda_python3"
  },
  "language_info": {
   "codemirror_mode": {
    "name": "ipython",
    "version": 3
   },
   "file_extension": ".py",
   "mimetype": "text/x-python",
   "name": "python",
   "nbconvert_exporter": "python",
   "pygments_lexer": "ipython3",
   "version": "3.10.14"
  }
 },
 "nbformat": 4,
 "nbformat_minor": 5
}

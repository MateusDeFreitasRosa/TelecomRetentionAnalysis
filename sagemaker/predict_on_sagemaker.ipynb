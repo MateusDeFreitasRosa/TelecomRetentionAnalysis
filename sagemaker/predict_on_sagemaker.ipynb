{
 "cells": [
  {
   "cell_type": "markdown",
   "id": "4c9dacf4-97b6-49bd-b807-a528ac41c5bf",
   "metadata": {},
   "source": [
    "# Processing model in Batch"
   ]
  },
  {
   "cell_type": "markdown",
   "id": "51897f3c-a580-4b62-9c3c-f5a726e394fb",
   "metadata": {},
   "source": [
    "## 1 - Configuração Inicial"
   ]
  },
  {
   "cell_type": "code",
   "execution_count": 13,
   "id": "d5afb394-f423-423e-80f6-18cfc7534adf",
   "metadata": {
    "tags": []
   },
   "outputs": [
    {
     "name": "stderr",
     "output_type": "stream",
     "text": [
      "INFO:botocore.credentials:Found credentials from IAM Role: BaseNotebookInstanceEc2InstanceRole\n"
     ]
    }
   ],
   "source": [
    "import sagemaker\n",
    "from sagemaker.model import ModelPackage\n",
    "role = sagemaker.get_execution_role()\n",
    "test_data_uri = 's3://sagemaker-us-east-1-837612112902/telco_churn/dataset/test.csv'"
   ]
  },
  {
   "cell_type": "markdown",
   "id": "343d4333-3b75-4d9f-89f7-7d29a985d798",
   "metadata": {},
   "source": [
    "## 2 - Configuração do Transformer"
   ]
  },
  {
   "cell_type": "code",
   "execution_count": null,
   "id": "91c08fc8-e291-456b-88b9-f33533adc5fa",
   "metadata": {},
   "outputs": [],
   "source": [
    "from sagemaker.transformer import Transformer\n",
    "\n",
    "transformer = Transformer(\n",
    "    model_name='sagemaker-scikit-learn-2024-10-16-01-04-22-583',\n",
    "    instance_count=1,\n",
    "    instance_type='ml.c5.xlarge',\n",
    "    output_path='s3://sagemaker-us-east-1-837612112902/telco_churn/predictions/'\n",
    ")"
   ]
  },
  {
   "cell_type": "markdown",
   "id": "07615958-3ab8-4b84-8382-b4a95059ab0c",
   "metadata": {},
   "source": [
    "## 3 - Envio dos Dados para o Transformer"
   ]
  },
  {
   "cell_type": "code",
   "execution_count": 20,
   "id": "0c6cd8f0-f47e-4d2f-ba6d-a4547138c619",
   "metadata": {
    "scrolled": true,
    "tags": []
   },
   "outputs": [
    {
     "name": "stderr",
     "output_type": "stream",
     "text": [
      "INFO:sagemaker:Creating transform job with name: sagemaker-scikit-learn-2024-10-16-01-11-09-241\n"
     ]
    },
    {
     "ename": "ResourceLimitExceeded",
     "evalue": "An error occurred (ResourceLimitExceeded) when calling the CreateTransformJob operation: The account-level service limit 'ml.c5.xlarge for transform job usage' is 0 Instances, with current utilization of 0 Instances and a request delta of 1 Instances. Please use AWS Service Quotas to request an increase for this quota. If AWS Service Quotas is not available, contact AWS support to request an increase for this quota.",
     "output_type": "error",
     "traceback": [
      "\u001b[0;31m---------------------------------------------------------------------------\u001b[0m",
      "\u001b[0;31mResourceLimitExceeded\u001b[0m                     Traceback (most recent call last)",
      "Cell \u001b[0;32mIn[20], line 1\u001b[0m\n\u001b[0;32m----> 1\u001b[0m \u001b[43mtransformer\u001b[49m\u001b[38;5;241;43m.\u001b[39;49m\u001b[43mtransform\u001b[49m\u001b[43m(\u001b[49m\n\u001b[1;32m      2\u001b[0m \u001b[43m    \u001b[49m\u001b[43mdata\u001b[49m\u001b[38;5;241;43m=\u001b[39;49m\u001b[43mtest_data_uri\u001b[49m\u001b[43m,\u001b[49m\n\u001b[1;32m      3\u001b[0m \u001b[43m    \u001b[49m\u001b[43mcontent_type\u001b[49m\u001b[38;5;241;43m=\u001b[39;49m\u001b[38;5;124;43m'\u001b[39;49m\u001b[38;5;124;43mtext/csv\u001b[39;49m\u001b[38;5;124;43m'\u001b[39;49m\u001b[43m,\u001b[49m\u001b[43m  \u001b[49m\u001b[38;5;66;43;03m# Formato dos dados de entrada\u001b[39;49;00m\n\u001b[1;32m      4\u001b[0m \u001b[43m    \u001b[49m\u001b[43msplit_type\u001b[49m\u001b[38;5;241;43m=\u001b[39;49m\u001b[38;5;124;43m'\u001b[39;49m\u001b[38;5;124;43mLine\u001b[39;49m\u001b[38;5;124;43m'\u001b[39;49m\u001b[43m         \u001b[49m\u001b[38;5;66;43;03m# Como os dados são divididos\u001b[39;49;00m\n\u001b[1;32m      5\u001b[0m \u001b[43m)\u001b[49m\n\u001b[1;32m      7\u001b[0m \u001b[38;5;66;03m# Aguardar a conclusão do job\u001b[39;00m\n\u001b[1;32m      8\u001b[0m transformer\u001b[38;5;241m.\u001b[39mwait()\n",
      "File \u001b[0;32m~/anaconda3/envs/python3/lib/python3.10/site-packages/sagemaker/workflow/pipeline_context.py:346\u001b[0m, in \u001b[0;36mrunnable_by_pipeline.<locals>.wrapper\u001b[0;34m(*args, **kwargs)\u001b[0m\n\u001b[1;32m    342\u001b[0m         \u001b[38;5;28;01mreturn\u001b[39;00m context\n\u001b[1;32m    344\u001b[0m     \u001b[38;5;28;01mreturn\u001b[39;00m _StepArguments(retrieve_caller_name(self_instance), run_func, \u001b[38;5;241m*\u001b[39margs, \u001b[38;5;241m*\u001b[39m\u001b[38;5;241m*\u001b[39mkwargs)\n\u001b[0;32m--> 346\u001b[0m \u001b[38;5;28;01mreturn\u001b[39;00m \u001b[43mrun_func\u001b[49m\u001b[43m(\u001b[49m\u001b[38;5;241;43m*\u001b[39;49m\u001b[43margs\u001b[49m\u001b[43m,\u001b[49m\u001b[43m \u001b[49m\u001b[38;5;241;43m*\u001b[39;49m\u001b[38;5;241;43m*\u001b[39;49m\u001b[43mkwargs\u001b[49m\u001b[43m)\u001b[49m\n",
      "File \u001b[0;32m~/anaconda3/envs/python3/lib/python3.10/site-packages/sagemaker/transformer.py:302\u001b[0m, in \u001b[0;36mTransformer.transform\u001b[0;34m(self, data, data_type, content_type, compression_type, split_type, job_name, input_filter, output_filter, join_source, experiment_config, model_client_config, batch_data_capture_config, wait, logs)\u001b[0m\n\u001b[1;32m    292\u001b[0m experiment_config \u001b[38;5;241m=\u001b[39m check_and_get_run_experiment_config(experiment_config)\n\u001b[1;32m    294\u001b[0m batch_data_capture_config \u001b[38;5;241m=\u001b[39m resolve_class_attribute_from_config(\n\u001b[1;32m    295\u001b[0m     \u001b[38;5;28;01mNone\u001b[39;00m,\n\u001b[1;32m    296\u001b[0m     batch_data_capture_config,\n\u001b[0;32m   (...)\u001b[0m\n\u001b[1;32m    299\u001b[0m     sagemaker_session\u001b[38;5;241m=\u001b[39m\u001b[38;5;28mself\u001b[39m\u001b[38;5;241m.\u001b[39msagemaker_session,\n\u001b[1;32m    300\u001b[0m )\n\u001b[0;32m--> 302\u001b[0m \u001b[38;5;28mself\u001b[39m\u001b[38;5;241m.\u001b[39mlatest_transform_job \u001b[38;5;241m=\u001b[39m \u001b[43m_TransformJob\u001b[49m\u001b[38;5;241;43m.\u001b[39;49m\u001b[43mstart_new\u001b[49m\u001b[43m(\u001b[49m\n\u001b[1;32m    303\u001b[0m \u001b[43m    \u001b[49m\u001b[38;5;28;43mself\u001b[39;49m\u001b[43m,\u001b[49m\n\u001b[1;32m    304\u001b[0m \u001b[43m    \u001b[49m\u001b[43mdata\u001b[49m\u001b[43m,\u001b[49m\n\u001b[1;32m    305\u001b[0m \u001b[43m    \u001b[49m\u001b[43mdata_type\u001b[49m\u001b[43m,\u001b[49m\n\u001b[1;32m    306\u001b[0m \u001b[43m    \u001b[49m\u001b[43mcontent_type\u001b[49m\u001b[43m,\u001b[49m\n\u001b[1;32m    307\u001b[0m \u001b[43m    \u001b[49m\u001b[43mcompression_type\u001b[49m\u001b[43m,\u001b[49m\n\u001b[1;32m    308\u001b[0m \u001b[43m    \u001b[49m\u001b[43msplit_type\u001b[49m\u001b[43m,\u001b[49m\n\u001b[1;32m    309\u001b[0m \u001b[43m    \u001b[49m\u001b[43minput_filter\u001b[49m\u001b[43m,\u001b[49m\n\u001b[1;32m    310\u001b[0m \u001b[43m    \u001b[49m\u001b[43moutput_filter\u001b[49m\u001b[43m,\u001b[49m\n\u001b[1;32m    311\u001b[0m \u001b[43m    \u001b[49m\u001b[43mjoin_source\u001b[49m\u001b[43m,\u001b[49m\n\u001b[1;32m    312\u001b[0m \u001b[43m    \u001b[49m\u001b[43mexperiment_config\u001b[49m\u001b[43m,\u001b[49m\n\u001b[1;32m    313\u001b[0m \u001b[43m    \u001b[49m\u001b[43mmodel_client_config\u001b[49m\u001b[43m,\u001b[49m\n\u001b[1;32m    314\u001b[0m \u001b[43m    \u001b[49m\u001b[43mbatch_data_capture_config\u001b[49m\u001b[43m,\u001b[49m\n\u001b[1;32m    315\u001b[0m \u001b[43m\u001b[49m\u001b[43m)\u001b[49m\n\u001b[1;32m    317\u001b[0m \u001b[38;5;28;01mif\u001b[39;00m wait:\n\u001b[1;32m    318\u001b[0m     \u001b[38;5;28mself\u001b[39m\u001b[38;5;241m.\u001b[39mlatest_transform_job\u001b[38;5;241m.\u001b[39mwait(logs\u001b[38;5;241m=\u001b[39mlogs)\n",
      "File \u001b[0;32m~/anaconda3/envs/python3/lib/python3.10/site-packages/sagemaker/transformer.py:636\u001b[0m, in \u001b[0;36m_TransformJob.start_new\u001b[0;34m(cls, transformer, data, data_type, content_type, compression_type, split_type, input_filter, output_filter, join_source, experiment_config, model_client_config, batch_data_capture_config)\u001b[0m\n\u001b[1;32m    619\u001b[0m \u001b[38;5;250m\u001b[39m\u001b[38;5;124;03m\"\"\"Placeholder docstring\"\"\"\u001b[39;00m\n\u001b[1;32m    621\u001b[0m transform_args \u001b[38;5;241m=\u001b[39m \u001b[38;5;28mcls\u001b[39m\u001b[38;5;241m.\u001b[39m_get_transform_args(\n\u001b[1;32m    622\u001b[0m     transformer,\n\u001b[1;32m    623\u001b[0m     data,\n\u001b[0;32m   (...)\u001b[0m\n\u001b[1;32m    633\u001b[0m     batch_data_capture_config,\n\u001b[1;32m    634\u001b[0m )\n\u001b[0;32m--> 636\u001b[0m \u001b[43mtransformer\u001b[49m\u001b[38;5;241;43m.\u001b[39;49m\u001b[43msagemaker_session\u001b[49m\u001b[38;5;241;43m.\u001b[39;49m\u001b[43mtransform\u001b[49m\u001b[43m(\u001b[49m\u001b[38;5;241;43m*\u001b[39;49m\u001b[38;5;241;43m*\u001b[39;49m\u001b[43mtransform_args\u001b[49m\u001b[43m)\u001b[49m\n\u001b[1;32m    638\u001b[0m \u001b[38;5;28;01mreturn\u001b[39;00m \u001b[38;5;28mcls\u001b[39m(transformer\u001b[38;5;241m.\u001b[39msagemaker_session, transformer\u001b[38;5;241m.\u001b[39m_current_job_name)\n",
      "File \u001b[0;32m~/anaconda3/envs/python3/lib/python3.10/site-packages/sagemaker/session.py:3886\u001b[0m, in \u001b[0;36mSession.transform\u001b[0;34m(self, job_name, model_name, strategy, max_concurrent_transforms, max_payload, input_config, output_config, resource_config, experiment_config, env, tags, data_processing, model_client_config, batch_data_capture_config)\u001b[0m\n\u001b[1;32m   3883\u001b[0m     logger\u001b[38;5;241m.\u001b[39mdebug(\u001b[38;5;124m\"\u001b[39m\u001b[38;5;124mTransform request: \u001b[39m\u001b[38;5;132;01m%s\u001b[39;00m\u001b[38;5;124m\"\u001b[39m, json\u001b[38;5;241m.\u001b[39mdumps(request, indent\u001b[38;5;241m=\u001b[39m\u001b[38;5;241m4\u001b[39m))\n\u001b[1;32m   3884\u001b[0m     \u001b[38;5;28mself\u001b[39m\u001b[38;5;241m.\u001b[39msagemaker_client\u001b[38;5;241m.\u001b[39mcreate_transform_job(\u001b[38;5;241m*\u001b[39m\u001b[38;5;241m*\u001b[39mrequest)\n\u001b[0;32m-> 3886\u001b[0m \u001b[38;5;28;43mself\u001b[39;49m\u001b[38;5;241;43m.\u001b[39;49m\u001b[43m_intercept_create_request\u001b[49m\u001b[43m(\u001b[49m\u001b[43mtransform_request\u001b[49m\u001b[43m,\u001b[49m\u001b[43m \u001b[49m\u001b[43msubmit\u001b[49m\u001b[43m,\u001b[49m\u001b[43m \u001b[49m\u001b[38;5;28;43mself\u001b[39;49m\u001b[38;5;241;43m.\u001b[39;49m\u001b[43mtransform\u001b[49m\u001b[38;5;241;43m.\u001b[39;49m\u001b[38;5;18;43m__name__\u001b[39;49m\u001b[43m)\u001b[49m\n",
      "File \u001b[0;32m~/anaconda3/envs/python3/lib/python3.10/site-packages/sagemaker/session.py:6606\u001b[0m, in \u001b[0;36mSession._intercept_create_request\u001b[0;34m(self, request, create, func_name)\u001b[0m\n\u001b[1;32m   6589\u001b[0m \u001b[38;5;28;01mdef\u001b[39;00m \u001b[38;5;21m_intercept_create_request\u001b[39m(\n\u001b[1;32m   6590\u001b[0m     \u001b[38;5;28mself\u001b[39m,\n\u001b[1;32m   6591\u001b[0m     request: typing\u001b[38;5;241m.\u001b[39mDict,\n\u001b[0;32m   (...)\u001b[0m\n\u001b[1;32m   6594\u001b[0m     \u001b[38;5;66;03m# pylint: disable=unused-argument\u001b[39;00m\n\u001b[1;32m   6595\u001b[0m ):\n\u001b[1;32m   6596\u001b[0m \u001b[38;5;250m    \u001b[39m\u001b[38;5;124;03m\"\"\"This function intercepts the create job request.\u001b[39;00m\n\u001b[1;32m   6597\u001b[0m \n\u001b[1;32m   6598\u001b[0m \u001b[38;5;124;03m    PipelineSession inherits this Session class and will override\u001b[39;00m\n\u001b[0;32m   (...)\u001b[0m\n\u001b[1;32m   6604\u001b[0m \u001b[38;5;124;03m        func_name (str): the name of the function needed intercepting\u001b[39;00m\n\u001b[1;32m   6605\u001b[0m \u001b[38;5;124;03m    \"\"\"\u001b[39;00m\n\u001b[0;32m-> 6606\u001b[0m     \u001b[38;5;28;01mreturn\u001b[39;00m \u001b[43mcreate\u001b[49m\u001b[43m(\u001b[49m\u001b[43mrequest\u001b[49m\u001b[43m)\u001b[49m\n",
      "File \u001b[0;32m~/anaconda3/envs/python3/lib/python3.10/site-packages/sagemaker/session.py:3884\u001b[0m, in \u001b[0;36mSession.transform.<locals>.submit\u001b[0;34m(request)\u001b[0m\n\u001b[1;32m   3882\u001b[0m logger\u001b[38;5;241m.\u001b[39minfo(\u001b[38;5;124m\"\u001b[39m\u001b[38;5;124mCreating transform job with name: \u001b[39m\u001b[38;5;132;01m%s\u001b[39;00m\u001b[38;5;124m\"\u001b[39m, job_name)\n\u001b[1;32m   3883\u001b[0m logger\u001b[38;5;241m.\u001b[39mdebug(\u001b[38;5;124m\"\u001b[39m\u001b[38;5;124mTransform request: \u001b[39m\u001b[38;5;132;01m%s\u001b[39;00m\u001b[38;5;124m\"\u001b[39m, json\u001b[38;5;241m.\u001b[39mdumps(request, indent\u001b[38;5;241m=\u001b[39m\u001b[38;5;241m4\u001b[39m))\n\u001b[0;32m-> 3884\u001b[0m \u001b[38;5;28;43mself\u001b[39;49m\u001b[38;5;241;43m.\u001b[39;49m\u001b[43msagemaker_client\u001b[49m\u001b[38;5;241;43m.\u001b[39;49m\u001b[43mcreate_transform_job\u001b[49m\u001b[43m(\u001b[49m\u001b[38;5;241;43m*\u001b[39;49m\u001b[38;5;241;43m*\u001b[39;49m\u001b[43mrequest\u001b[49m\u001b[43m)\u001b[49m\n",
      "File \u001b[0;32m~/anaconda3/envs/python3/lib/python3.10/site-packages/botocore/client.py:569\u001b[0m, in \u001b[0;36mClientCreator._create_api_method.<locals>._api_call\u001b[0;34m(self, *args, **kwargs)\u001b[0m\n\u001b[1;32m    565\u001b[0m     \u001b[38;5;28;01mraise\u001b[39;00m \u001b[38;5;167;01mTypeError\u001b[39;00m(\n\u001b[1;32m    566\u001b[0m         \u001b[38;5;124mf\u001b[39m\u001b[38;5;124m\"\u001b[39m\u001b[38;5;132;01m{\u001b[39;00mpy_operation_name\u001b[38;5;132;01m}\u001b[39;00m\u001b[38;5;124m() only accepts keyword arguments.\u001b[39m\u001b[38;5;124m\"\u001b[39m\n\u001b[1;32m    567\u001b[0m     )\n\u001b[1;32m    568\u001b[0m \u001b[38;5;66;03m# The \"self\" in this scope is referring to the BaseClient.\u001b[39;00m\n\u001b[0;32m--> 569\u001b[0m \u001b[38;5;28;01mreturn\u001b[39;00m \u001b[38;5;28;43mself\u001b[39;49m\u001b[38;5;241;43m.\u001b[39;49m\u001b[43m_make_api_call\u001b[49m\u001b[43m(\u001b[49m\u001b[43moperation_name\u001b[49m\u001b[43m,\u001b[49m\u001b[43m \u001b[49m\u001b[43mkwargs\u001b[49m\u001b[43m)\u001b[49m\n",
      "File \u001b[0;32m~/anaconda3/envs/python3/lib/python3.10/site-packages/botocore/client.py:1023\u001b[0m, in \u001b[0;36mBaseClient._make_api_call\u001b[0;34m(self, operation_name, api_params)\u001b[0m\n\u001b[1;32m   1019\u001b[0m     error_code \u001b[38;5;241m=\u001b[39m error_info\u001b[38;5;241m.\u001b[39mget(\u001b[38;5;124m\"\u001b[39m\u001b[38;5;124mQueryErrorCode\u001b[39m\u001b[38;5;124m\"\u001b[39m) \u001b[38;5;129;01mor\u001b[39;00m error_info\u001b[38;5;241m.\u001b[39mget(\n\u001b[1;32m   1020\u001b[0m         \u001b[38;5;124m\"\u001b[39m\u001b[38;5;124mCode\u001b[39m\u001b[38;5;124m\"\u001b[39m\n\u001b[1;32m   1021\u001b[0m     )\n\u001b[1;32m   1022\u001b[0m     error_class \u001b[38;5;241m=\u001b[39m \u001b[38;5;28mself\u001b[39m\u001b[38;5;241m.\u001b[39mexceptions\u001b[38;5;241m.\u001b[39mfrom_code(error_code)\n\u001b[0;32m-> 1023\u001b[0m     \u001b[38;5;28;01mraise\u001b[39;00m error_class(parsed_response, operation_name)\n\u001b[1;32m   1024\u001b[0m \u001b[38;5;28;01melse\u001b[39;00m:\n\u001b[1;32m   1025\u001b[0m     \u001b[38;5;28;01mreturn\u001b[39;00m parsed_response\n",
      "\u001b[0;31mResourceLimitExceeded\u001b[0m: An error occurred (ResourceLimitExceeded) when calling the CreateTransformJob operation: The account-level service limit 'ml.c5.xlarge for transform job usage' is 0 Instances, with current utilization of 0 Instances and a request delta of 1 Instances. Please use AWS Service Quotas to request an increase for this quota. If AWS Service Quotas is not available, contact AWS support to request an increase for this quota."
     ]
    }
   ],
   "source": [
    "transformer.transform(\n",
    "    data=test_data_uri,\n",
    "    content_type='text/csv',\n",
    "    split_type='Line'\n",
    ")\n",
    "\n",
    "# Aguardar a conclusão do job\n",
    "transformer.wait()\n"
   ]
  },
  {
   "cell_type": "markdown",
   "id": "25b9e477-527f-41de-8cce-1cf93a0654a2",
   "metadata": {},
   "source": [
    "# Processing Real-Time Model "
   ]
  },
  {
   "cell_type": "markdown",
   "id": "b0cb54bd-783d-4d95-a8b8-fe2069684f6b",
   "metadata": {},
   "source": [
    "## 1: Conexão ao S3 e Carregamento dos Dados"
   ]
  },
  {
   "cell_type": "code",
   "execution_count": 27,
   "id": "42d823ae-00ec-4665-8fe4-e60f9634a267",
   "metadata": {
    "tags": []
   },
   "outputs": [
    {
     "data": {
      "text/plain": [
       "(1409, 20)"
      ]
     },
     "execution_count": 27,
     "metadata": {},
     "output_type": "execute_result"
    }
   ],
   "source": [
    "import boto3\n",
    "import pandas as pd\n",
    "\n",
    "# Configurar o cliente do S3\n",
    "s3 = boto3.client('s3')\n",
    "\n",
    "# Especifique o nome do bucket e a chave do arquivo\n",
    "bucket_name = 'sagemaker-us-east-1-837612112902'\n",
    "key = 'telco_churn/dataset/test.csv'\n",
    "\n",
    "# Ler o arquivo CSV do S3 em um DataFrame do pandas\n",
    "obj = s3.get_object(Bucket=bucket_name, Key=key)\n",
    "df = pd.read_csv(obj['Body'])\n",
    "df.shape"
   ]
  },
  {
   "cell_type": "markdown",
   "id": "536448aa-28e2-4416-8f03-435d46a91423",
   "metadata": {},
   "source": [
    "## 2: Configuração do SageMaker Predictor"
   ]
  },
  {
   "cell_type": "code",
   "execution_count": 23,
   "id": "03d56d2b-7ed7-4f4f-a490-f44624c803f6",
   "metadata": {
    "tags": []
   },
   "outputs": [],
   "source": [
    "from sagemaker.predictor import Predictor\n",
    "from sagemaker.serializers import CSVSerializer\n",
    "from sagemaker.deserializers import JSONDeserializer\n",
    "import sagemaker\n",
    "\n",
    "# Criar uma sessão do SageMaker\n",
    "sagemaker_session = sagemaker.Session()\n",
    "\n",
    "# Nome do endpoint (substitua pelo nome real do seu endpoint)\n",
    "endpoint_name = 'sagemaker-scikit-learn-2024-10-16-02-16-23-196'\n",
    "\n",
    "# Configurar o Predictor\n",
    "predictor = Predictor(\n",
    "    endpoint_name=endpoint_name,\n",
    "    sagemaker_session=sagemaker_session,\n",
    "    serializer=CSVSerializer(),\n",
    "    deserializer=JSONDeserializer()\n",
    ")\n"
   ]
  },
  {
   "cell_type": "markdown",
   "id": "ebe80123-0ba5-4def-bf45-678d22fcd656",
   "metadata": {},
   "source": [
    "## 3: Remoção da Coluna 'Churn'"
   ]
  },
  {
   "cell_type": "code",
   "execution_count": 28,
   "id": "31f25181-c3fd-4082-be2e-7ffb98e4461d",
   "metadata": {
    "tags": []
   },
   "outputs": [],
   "source": [
    "# Remover a coluna 'Churn' se estiver presente (ou qualquer coluna de rótulo)\n",
    "y_teste = df['Churn']\n",
    "df = df.drop(columns=['Churn'], errors='ignore')"
   ]
  },
  {
   "cell_type": "markdown",
   "id": "91a46a1c-8c61-4639-88a8-b2220a300c58",
   "metadata": {},
   "source": [
    "## 4: Enviar Dados para o Endpoint"
   ]
  },
  {
   "cell_type": "code",
   "execution_count": 25,
   "id": "a61181a2-e10e-4e2c-9879-9eea1260203b",
   "metadata": {
    "tags": []
   },
   "outputs": [],
   "source": [
    "# Converter o DataFrame em CSV sem o índice\n",
    "csv_data = df.to_csv(index=False, header=True)\n",
    "\n",
    "# Enviar os dados para o endpoint e obter as predições\n",
    "predictions = predictor.predict(data=csv_data)\n"
   ]
  },
  {
   "cell_type": "markdown",
   "id": "57909905-3e71-4d7b-80dd-d2ebfc1c9894",
   "metadata": {},
   "source": [
    "## 5: Processar Predições"
   ]
  },
  {
   "cell_type": "code",
   "execution_count": 32,
   "id": "cfe9cfeb-cc90-4a76-9e10-a31a7c21741c",
   "metadata": {
    "scrolled": true,
    "tags": []
   },
   "outputs": [],
   "source": [
    "# Obter a lista de predições\n",
    "prediction_values = predictions['predictions']"
   ]
  },
  {
   "cell_type": "markdown",
   "id": "7196889a-000e-4ef3-8d7f-997dbb1d02e3",
   "metadata": {},
   "source": [
    "# Avaliar resultados"
   ]
  },
  {
   "cell_type": "markdown",
   "id": "a2a77855-5ace-455f-91fa-028538e2cb91",
   "metadata": {},
   "source": [
    "## 1 - Importação das Bibliotecas:"
   ]
  },
  {
   "cell_type": "code",
   "execution_count": 35,
   "id": "75f41d90-e89c-48fc-9ef2-e3fc6755b20e",
   "metadata": {
    "tags": []
   },
   "outputs": [
    {
     "name": "stderr",
     "output_type": "stream",
     "text": [
      "INFO:matplotlib.font_manager:generated new fontManager\n"
     ]
    }
   ],
   "source": [
    "from sklearn.metrics import classification_report, confusion_matrix, roc_curve, roc_auc_score\n",
    "from sklearn.metrics import accuracy_score, precision_score, recall_score, f1_score\n",
    "import matplotlib.pyplot as plt\n",
    "import seaborn as sns\n",
    "import numpy as np\n"
   ]
  },
  {
   "cell_type": "markdown",
   "id": "cc34df4a-c0c2-4b4b-9fcc-1caabb893474",
   "metadata": {},
   "source": [
    "### Cálculo das Métricas de Avaliação\n",
    "\n",
    "Comparamos as predições do modelo (`y_pred`) com os valores reais (`y_true`) para calcular as seguintes métricas:\n",
    "\n",
    "- **Acurácia**: Proporção de predições corretas.\n",
    "- **Precisão (Precision)**: Proporção de predições positivas corretas.\n",
    "- **Recall**: Proporção de verdadeiros positivos.\n",
    "- **F1-Score**: Média harmônica entre precisão e recall.\n"
   ]
  },
  {
   "cell_type": "code",
   "execution_count": 36,
   "id": "659343e6-7efb-4d12-a555-367582529095",
   "metadata": {
    "tags": []
   },
   "outputs": [
    {
     "name": "stdout",
     "output_type": "stream",
     "text": [
      "Acurácia: 0.81\n",
      "Precisão (Precision): 0.67\n",
      "Recall: 0.53\n",
      "F1-Score: 0.59\n"
     ]
    }
   ],
   "source": [
    "# Convertendo os arrays para numpy caso ainda não estejam\n",
    "y_pred = np.array(prediction_values)\n",
    "y_true = np.array(y_teste)\n",
    "\n",
    "# Calculando as métricas\n",
    "accuracy = accuracy_score(y_true, y_pred)\n",
    "precision = precision_score(y_true, y_pred)\n",
    "recall = recall_score(y_true, y_pred)\n",
    "f1 = f1_score(y_true, y_pred)\n",
    "\n",
    "# Exibir as métricas calculadas\n",
    "print(f\"Acurácia: {accuracy:.2f}\")\n",
    "print(f\"Precisão (Precision): {precision:.2f}\")\n",
    "print(f\"Recall: {recall:.2f}\")\n",
    "print(f\"F1-Score: {f1:.2f}\")\n"
   ]
  },
  {
   "cell_type": "markdown",
   "id": "00c953cd-71f2-4a1e-9001-cc7841bbb1ad",
   "metadata": {},
   "source": [
    "### Matriz de Confusão\n",
    "\n",
    "A matriz de confusão mostra como o modelo está classificando os dados. A diagonal principal representa as classificações corretas.\n"
   ]
  },
  {
   "cell_type": "code",
   "execution_count": 37,
   "id": "482422cb-0dd8-4477-a13e-35b76f2e851e",
   "metadata": {
    "tags": []
   },
   "outputs": [
    {
     "data": {
      "image/png": "[encoded data removed]",
      "text/plain": [
       "<Figure size 800x600 with 2 Axes>"
      ]
     },
     "metadata": {},
     "output_type": "display_data"
    }
   ],
   "source": [
    "# Criar a matriz de confusão\n",
    "conf_matrix = confusion_matrix(y_true, y_pred)\n",
    "\n",
    "# Visualizar a matriz de confusão usando seaborn\n",
    "plt.figure(figsize=(8, 6))\n",
    "sns.heatmap(conf_matrix, annot=True, fmt='d', cmap='Blues', xticklabels=['Não Churn', 'Churn'], yticklabels=['Não Churn', 'Churn'])\n",
    "plt.xlabel('Predicted')\n",
    "plt.ylabel('True')\n",
    "plt.title('Matriz de Confusão')\n",
    "plt.show()\n"
   ]
  },
  {
   "cell_type": "markdown",
   "id": "243714de-ac73-4c94-8ff6-be0e7a9d6df5",
   "metadata": {},
   "source": [
    "### Curva ROC\n",
    "\n",
    "A curva ROC mostra a relação entre a taxa de verdadeiros positivos (TPR) e a taxa de falsos positivos (FPR). A área sob a curva (AUC) é uma métrica importante para avaliar a capacidade do modelo em distinguir entre classes.\n"
   ]
  },
  {
   "cell_type": "code",
   "execution_count": 38,
   "id": "36990d41-7e52-4d5e-994b-a9e6065cc817",
   "metadata": {
    "tags": []
   },
   "outputs": [
    {
     "data": {
      "image/png": "[encoded data removed]",
      "text/plain": [
       "<Figure size 800x600 with 1 Axes>"
      ]
     },
     "metadata": {},
     "output_type": "display_data"
    }
   ],
   "source": [
    "# Supondo que prediction_values contenha as probabilidades de 'Churn'\n",
    "y_pred_proba = np.array(prediction_values)\n",
    "\n",
    "# Calcular a curva ROC\n",
    "fpr, tpr, _ = roc_curve(y_true, y_pred_proba)\n",
    "roc_auc = roc_auc_score(y_true, y_pred_proba)\n",
    "\n",
    "# Plotar a curva ROC\n",
    "plt.figure(figsize=(8, 6))\n",
    "plt.plot(fpr, tpr, color='blue', label=f'ROC Curve (AUC = {roc_auc:.2f})')\n",
    "plt.plot([0, 1], [0, 1], color='gray', linestyle='--')  # Linha de referência\n",
    "plt.xlabel('Taxa de Falsos Positivos (False Positive Rate)')\n",
    "plt.ylabel('Taxa de Verdadeiros Positivos (True Positive Rate)')\n",
    "plt.title('Curva ROC')\n",
    "plt.legend()\n",
    "plt.show()\n"
   ]
  },
  {
   "cell_type": "markdown",
   "id": "937aafe0-cbbe-4696-92de-f3bcec3a610f",
   "metadata": {},
   "source": [
    "### Relatório de Classificação\n",
    "\n",
    "O relatório de classificação exibe as principais métricas de avaliação (acurácia, precisão, recall, F1-score) de forma organizada para cada classe."
   ]
  },
  {
   "cell_type": "code",
   "execution_count": 39,
   "id": "4847f6a0-884b-4c60-90fd-b76fd45da799",
   "metadata": {
    "tags": []
   },
   "outputs": [
    {
     "name": "stdout",
     "output_type": "stream",
     "text": [
      "Relatório de Classificação:\n",
      "               precision    recall  f1-score   support\n",
      "\n",
      "           0       0.84      0.90      0.87      1036\n",
      "           1       0.67      0.53      0.59       373\n",
      "\n",
      "    accuracy                           0.81      1409\n",
      "   macro avg       0.75      0.72      0.73      1409\n",
      "weighted avg       0.80      0.81      0.80      1409\n",
      "\n"
     ]
    }
   ],
   "source": [
    "# Exibir o relatório de classificação\n",
    "print(\"Relatório de Classificação:\\n\", classification_report(y_true, y_pred))\n"
   ]
  },
  {
   "cell_type": "markdown",
   "id": "d41f61b2-8f2e-45ff-a4b8-8dc559e9c9bf",
   "metadata": {},
   "source": [
    "# Excluir endpoint"
   ]
  },
  {
   "cell_type": "code",
   "execution_count": 41,
   "id": "76aa2438-3e07-4275-8e2c-6a0747763e87",
   "metadata": {
    "tags": []
   },
   "outputs": [
    {
     "name": "stderr",
     "output_type": "stream",
     "text": [
      "INFO:sagemaker:Deleting endpoint with name: sagemaker-scikit-learn-2024-10-16-02-07-20-273\n"
     ]
    },
    {
     "name": "stdout",
     "output_type": "stream",
     "text": [
      "Endpoint 'sagemaker-scikit-learn-2024-10-16-02-07-20-273' excluído com sucesso.\n"
     ]
    }
   ],
   "source": [
    "import boto3\n",
    "import sagemaker\n",
    "\n",
    "# Criar uma sessão do SageMaker\n",
    "sagemaker_session = sagemaker.Session()\n",
    "\n",
    "# Nome do endpoint que você deseja excluir\n",
    "endpoint_name = 'sagemaker-scikit-learn-2024-10-16-02-07-20-273'\n",
    "\n",
    "# Excluir o endpoint\n",
    "sagemaker_session.delete_endpoint(endpoint_name)\n",
    "\n",
    "print(f\"Endpoint '{endpoint_name}' excluído com sucesso.\")"
   ]
  },
  {
   "cell_type": "markdown",
   "id": "5f55c248-0163-45d3-8ef9-ddc3e612cb00",
   "metadata": {},
   "source": [
    "# Excluir modelo"
   ]
  },
  {
   "cell_type": "code",
   "execution_count": 45,
   "id": "e16458a5-b07d-426b-8d4b-41cd04963f81",
   "metadata": {
    "tags": []
   },
   "outputs": [
    {
     "name": "stderr",
     "output_type": "stream",
     "text": [
      "INFO:sagemaker:Deleting model with name: sagemaker-scikit-learn-2024-10-16-01-04-22-583\n"
     ]
    },
    {
     "name": "stdout",
     "output_type": "stream",
     "text": [
      "Modelo associado ao endpoint 'sagemaker-scikit-learn-2024-10-16-02-07-20-273' excluído com sucesso.\n"
     ]
    }
   ],
   "source": [
    "# Excluir o modelo associado ao endpoint\n",
    "sagemaker_session.delete_model('sagemaker-scikit-learn-2024-10-16-01-04-22-583')\n",
    "\n",
    "print(f\"Modelo associado ao endpoint '{endpoint_name}' excluído com sucesso.\")"
   ]
  },
  {
   "cell_type": "code",
   "execution_count": null,
   "id": "f48094e8-e2ea-490a-af0a-688d78ef90ff",
   "metadata": {},
   "outputs": [],
   "source": []
  }
 ],
 "metadata": {
  "kernelspec": {
   "display_name": "conda_python3",
   "language": "python",
   "name": "conda_python3"
  },
  "language_info": {
   "codemirror_mode": {
    "name": "ipython",
    "version": 3
   },
   "file_extension": ".py",
   "mimetype": "text/x-python",
   "name": "python",
   "nbconvert_exporter": "python",
   "pygments_lexer": "ipython3",
   "version": "3.10.14"
  }
 },
 "nbformat": 4,
 "nbformat_minor": 5
}

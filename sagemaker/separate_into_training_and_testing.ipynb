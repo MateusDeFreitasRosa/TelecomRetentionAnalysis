{
 "cells": [
  {
   "cell_type": "markdown",
   "id": "44975a13-dda1-41b6-827c-7ccf8d44e15a",
   "metadata": {
    "tags": []
   },
   "source": [
    "# Preprocessamento de Dados e Armazenamento no S3\n",
    "\n",
    "Este notebook demonstra como carregar, pré-processar e dividir um dataset de clientes para modelagem de churn. Utilizamos o **Amazon S3** para armazenar os arquivos de treino e teste.\n",
    "\n",
    "As etapas incluem:\n",
    "1. Carregar o dataset diretamente do S3.\n",
    "2. Realizar o pré-processamento dos dados (exclusão de colunas, tratamento de valores nulos, conversão de variáveis categóricas).\n",
    "3. Separar os dados em conjuntos de treino e teste.\n",
    "4. Salvar os conjuntos de treino e teste de volta no S3.\n",
    "\n",
    "---\n",
    "## 1 - Bibliotecas Necessárias\n",
    "\n",
    "Antes de começar, importamos as bibliotecas necessárias, como o **boto3** para acessar o Amazon S3 e o **pandas** para manipulação dos dados.\n"
   ]
  },
  {
   "cell_type": "code",
   "execution_count": 2,
   "id": "1ea4b25b-cdf6-43a5-865b-3471ca7cf35a",
   "metadata": {
    "tags": []
   },
   "outputs": [
    {
     "name": "stderr",
     "output_type": "stream",
     "text": [
      "/home/ec2-user/anaconda3/envs/python3/lib/python3.10/site-packages/sklearn/utils/_param_validation.py:11: UserWarning: A NumPy version >=1.23.5 and <2.3.0 is required for this version of SciPy (detected version 1.22.4)\n",
      "  from scipy.sparse import csr_matrix, issparse\n"
     ]
    }
   ],
   "source": [
    "import boto3\n",
    "import pandas as pd\n",
    "from io import StringIO\n",
    "from sklearn.model_selection import train_test_split\n",
    "# Conectar ao S3\n",
    "s3 = boto3.client('s3')\n"
   ]
  },
  {
   "cell_type": "code",
   "execution_count": 8,
   "id": "fd4cfd58-7004-4ec4-b3f1-a48b6a3c7a88",
   "metadata": {
    "tags": []
   },
   "outputs": [],
   "source": [
    "bucket_name = 'sagemaker-us-east-1-837612112902'\n",
    "input_key = 'telco_churn/dataset/WA_Fn-UseC_-Telco-Customer-Churn.csv'\n",
    "train_output_key = 'telco_churn/dataset/train.csv'\n",
    "test_output_key = 'telco_churn/dataset/test.csv'"
   ]
  },
  {
   "cell_type": "markdown",
   "id": "2b488e75-7953-4e86-9203-1fabd3e7fb21",
   "metadata": {},
   "source": [
    "## 2 - Conexão ao S3 e Carregamento do Dataset"
   ]
  },
  {
   "cell_type": "code",
   "execution_count": null,
   "id": "2b5c54dc-30c0-4a77-bcf9-3480bd655908",
   "metadata": {
    "tags": []
   },
   "outputs": [],
   "source": [
    "# Ler o dataset do S3\n",
    "#df = read_s3_csv(bucket_name, input_key)\n",
    "\n",
    "df = pd.read_csv('s3://{}/{}'.format(bucket_name, input_key))\n",
    "\n",
    "# Excluir a coluna 'customerID' (se existir)\n",
    "if 'customerID' in df.columns:\n",
    "    df = df.drop(columns=['customerID'])\n",
    "\n",
    "# Converter a variável de resposta 'Churn' para binário\n",
    "if 'Churn' in df.columns:\n",
    "    df['Churn'] = df['Churn'].map({'Yes': 1, 'No': 0})\n",
    "\n",
    "# Converter a coluna 'TotalCharges' para numérico e tratar valores faltantes\n",
    "df['TotalCharges'] = pd.to_numeric(df['TotalCharges'], errors='coerce')\n",
    "df['TotalCharges'].fillna(df['TotalCharges'].median(), inplace=True)\n",
    "\n"
   ]
  },
  {
   "cell_type": "markdown",
   "id": "0615a801-55fc-4fdd-85b4-7780629e2e28",
   "metadata": {},
   "source": [
    "## 3 - Separação de Treino e Teste"
   ]
  },
  {
   "cell_type": "code",
   "execution_count": null,
   "id": "d95a761e-84f7-40e2-922b-ea487ab5b609",
   "metadata": {},
   "outputs": [],
   "source": [
    "# Separar as features (X) da variável alvo (y)\n",
    "X = df.drop('Churn', axis=1)\n",
    "y = df['Churn']\n",
    "\n",
    "# Separar os dados em treino e teste\n",
    "X_train, X_test, y_train, y_test = train_test_split(X, y, test_size=0.2, random_state=42)\n",
    "\n",
    "X_train.reset_index(drop=True, inplace=True)\n",
    "X_test.reset_index(drop=True, inplace=True)\n",
    "y_train.reset_index(drop=True, inplace=True)\n",
    "y_test.reset_index(drop=True, inplace=True)\n",
    "\n",
    "# Criar DataFrames para treino e teste\n",
    "train_data = pd.concat([X_train, y_train], axis=1)\n",
    "test_data = pd.concat([X_test, y_test], axis=1)\n",
    "\n",
    "\n",
    "\n"
   ]
  },
  {
   "cell_type": "markdown",
   "id": "1f4d013d-508b-469f-bca6-ac21e564519e",
   "metadata": {},
   "source": [
    "## 4 - Salvando os Arquivos no S3"
   ]
  },
  {
   "cell_type": "code",
   "execution_count": null,
   "id": "a0f9c211-b8fd-401b-8d7e-27ac1c5e5e81",
   "metadata": {},
   "outputs": [],
   "source": [
    "# Salvar os arquivos de treino e teste no S3\n",
    "train_data.to_csv('s3://{}/{}'.format(bucket_name, train_output_key), index=False)\n",
    "test_data.to_csv('s3://{}/{}'.format(bucket_name, test_output_key), index=False)\n",
    "\n",
    "print(f\"Arquivos de treino e teste salvos com sucesso no S3 em:\\n - {train_output_key}\\n - {test_output_key}\")"
   ]
  },
  {
   "cell_type": "markdown",
   "id": "30d7ca2b-05d0-4ea6-a645-b777f5746253",
   "metadata": {},
   "source": [
    "## 5 - Carregar Arquivos do S3 (Teste)"
   ]
  },
  {
   "cell_type": "code",
   "execution_count": null,
   "id": "222e55b3-1c91-4410-8675-147f00b3f3ff",
   "metadata": {},
   "outputs": [],
   "source": [
    "train_data = pd.read_csv('s3://{}/{}'.format(bucket_name, train_output_key))\n",
    "test_data = pd.read_csv('s3://{}/{}'.format(bucket_name, test_output_key))"
   ]
  },
  {
   "cell_type": "code",
   "execution_count": null,
   "id": "5621b97f-f9e0-4679-9794-b39c6d44e8b4",
   "metadata": {},
   "outputs": [],
   "source": []
  }
 ],
 "metadata": {
  "kernelspec": {
   "display_name": "conda_python3",
   "language": "python",
   "name": "conda_python3"
  },
  "language_info": {
   "codemirror_mode": {
    "name": "ipython",
    "version": 3
   },
   "file_extension": ".py",
   "mimetype": "text/x-python",
   "name": "python",
   "nbconvert_exporter": "python",
   "pygments_lexer": "ipython3",
   "version": "3.10.14"
  }
 },
 "nbformat": 4,
 "nbformat_minor": 5
}
